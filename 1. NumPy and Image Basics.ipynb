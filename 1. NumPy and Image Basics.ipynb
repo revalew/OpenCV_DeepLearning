{
 "cells": [
  {
   "attachments": {},
   "cell_type": "markdown",
   "metadata": {},
   "source": [
    "# <span style=\"color: tomato;\">NumPy</span>\n",
    "---"
   ]
  },
  {
   "attachments": {},
   "cell_type": "markdown",
   "metadata": {},
   "source": [
    "## <span style=\"color: yellowgreen;\">1. </span>Introduction"
   ]
  },
  {
   "cell_type": "code",
   "execution_count": null,
   "metadata": {},
   "outputs": [],
   "source": [
    "import numpy as np\n",
    "\n",
    "mylist = [1, 2, 3]\n",
    "type(mylist)\n",
    "myarray = np.array(mylist) # convert a list to a numpy array\n",
    "np.arange(0, 10, 2) # create an array (works like python's built in range() - (start, end [,step])); creates array of int\n",
    "np.zeros(shape=(5,5)) # creating multidimentional array; zeros => works the same as in matlab - array of zeros; shape=(5,5) => 5x5 array, (rows, columns); creates array of float\n",
    "np.ones((2,3)) # this works as well even though we did not use \"shape=\""
   ]
  },
  {
   "attachments": {},
   "cell_type": "markdown",
   "metadata": {},
   "source": [
    "## <span style=\"color: yellowgreen;\">2. </span>Random numbers <sub>(with seed)</sub>"
   ]
  },
  {
   "cell_type": "code",
   "execution_count": null,
   "metadata": {},
   "outputs": [],
   "source": [
    "np.random.seed(101) # allows us to create the same random numbers each time (I think I need some more information about that...)\n",
    "arr = np.random.randint(0,100,10) # from 0 to 100 and give me 10 numbers\n",
    "arr2 =  np.random.randint(0,100,10)\n",
    "arr2.max() # tells what is the max value of the array\n",
    "arr.argmax() # tells the index of the max value of the array\n",
    "arr.mean() # tells what is the average / mean value of the array\n",
    "arr.shape # tells what is the shape of given array\n",
    "arr.reshape((2,5)) # specify the shape you want to achieve BUT only to shapes that make sens for a given array => can not make it 2x10 if it is a 1x10 "
   ]
  },
  {
   "attachments": {},
   "cell_type": "markdown",
   "metadata": {},
   "source": [
    "## <span style=\"color: yellowgreen;\">3. </span>Indexing"
   ]
  },
  {
   "cell_type": "code",
   "execution_count": null,
   "metadata": {},
   "outputs": [],
   "source": [
    "mat = np.arange(0, 100).reshape(10, 10)\n",
    "mat.shape\n",
    "row = 4\n",
    "col = 6\n",
    "mat[row, col]\n",
    "mat[:,1] # taking the whole column 1, no matter the row\n",
    "mat[0:3, 0:3] # slicing the 3x3 matrix from the base matrix\n",
    "mat[0:3, 0:3] = 0 # change the value at given index (range in this example)\n",
    "newmat = mat.copy() # copy the original matrix to a new one\n",
    "newmat[0:6, :] = 999 # change the values of the top half of the matrix"
   ]
  },
  {
   "attachments": {},
   "cell_type": "markdown",
   "metadata": {},
   "source": [
    "## <span style=\"color: yellowgreen;\">4. </span>Images"
   ]
  },
  {
   "attachments": {},
   "cell_type": "markdown",
   "metadata": {},
   "source": [
    "###  <span style=\"color: royalblue;\">a) </span>Introduction"
   ]
  },
  {
   "attachments": {},
   "cell_type": "markdown",
   "metadata": {},
   "source": [
    "Grayscale images are often represented by a value ranging from 0 to 255. We then normalise this value by dividing by the max value (0-255 -> 0-1). 0 - white, 1 - black.\n",
    "\n",
    "Color images are represented as a combination of 3 colors R, G and B, each with its own intensity. 0 = no color value, 255 = full color\n",
    "\n",
    "When reading an image and its shape it will look like this: (1280, 720, 3). This means it has: 1280 pixels width, 720 pixels height, 3 color chanels. So it has 3 dimensions. Each color is a 2D array => 3D for basic RGB.\n",
    "To a PC every color is treated as a separate 2D array image in grayscale."
   ]
  },
  {
   "attachments": {},
   "cell_type": "markdown",
   "metadata": {},
   "source": [
    "### <span style=\"color: royalblue;\">b) </span>Images in NumPy"
   ]
  },
  {
   "attachments": {},
   "cell_type": "markdown",
   "metadata": {},
   "source": [
    "NumPy can not directly open images, so in order to do that, we have to use a PIL library."
   ]
  },
  {
   "cell_type": "code",
   "execution_count": null,
   "metadata": {},
   "outputs": [],
   "source": [
    "import numpy as np\n",
    "import matplotlib.pyplot as plt # library to display images inside of the notebook\n",
    "\n",
    "# actually display images with:\n",
    "%matplotlib inline"
   ]
  },
  {
   "cell_type": "code",
   "execution_count": null,
   "metadata": {},
   "outputs": [],
   "source": [
    "from PIL import Image # allows us to open images"
   ]
  },
  {
   "cell_type": "code",
   "execution_count": null,
   "metadata": {},
   "outputs": [],
   "source": [
    "pic = Image.open('./Computer-Vision-with-Python/DATA/00-puppy.jpg')"
   ]
  },
  {
   "cell_type": "code",
   "execution_count": null,
   "metadata": {},
   "outputs": [],
   "source": [
    "type(pic) # PIL.JpegImagePlugin.JpegImageFile\n",
    "pic_arr = np.asarray(pic) # change the type of pic from jpg to numpy array\n",
    "pic_arr.shape # (1300, 1950, 3)\n",
    "plt.imshow(pic_arr) # function to show images that are transformed to arrays"
   ]
  },
  {
   "cell_type": "code",
   "execution_count": null,
   "metadata": {},
   "outputs": [],
   "source": [
    "# Red channel values are between 0 - 255\n",
    "pic_red = pic_arr[:,:,0].copy()\n",
    "plt.imshow(pic_red, cmap='gray') # color map = 'gray'\n",
    "# without this color map change it is represented as some sort of solor scale from matplotlib designed for colourblind people"
   ]
  },
  {
   "cell_type": "code",
   "execution_count": null,
   "metadata": {},
   "outputs": [],
   "source": [
    "# Green channel values are between 0 - 255\n",
    "pic_green = pic_arr[:,:,1].copy()\n",
    "plt.imshow(pic_green, cmap='gray') # color map = 'gray'"
   ]
  },
  {
   "cell_type": "code",
   "execution_count": null,
   "metadata": {},
   "outputs": [],
   "source": [
    "# Blue channel values are between 0 - 255\n",
    "pic_blue = pic_arr[:,:,2].copy()\n",
    "plt.imshow(pic_blue, cmap='gray') # color map = 'gray'"
   ]
  },
  {
   "cell_type": "code",
   "execution_count": null,
   "metadata": {},
   "outputs": [],
   "source": [
    "pic_red = pic_arr.copy()\n",
    "pic_red[:,:,1] = 0\n",
    "pic_red[:,:,2] = 0\n",
    "pic_red.shape\n",
    "plt.imshow(pic_red) # pure red image AND retaining the 3D array instead of single channel"
   ]
  },
  {
   "attachments": {},
   "cell_type": "markdown",
   "metadata": {},
   "source": [
    "## <span style=\"color: yellowgreen;\">5. </span>Image assessment test"
   ]
  },
  {
   "attachments": {},
   "cell_type": "markdown",
   "metadata": {},
   "source": [
    "Test is in a different notebook:\n",
    "\n",
    "D:\\1KURSY\\Kurs Python\\OpenCV_DL\\Notebooks\\Assessments\\1. 03-Numpy-and-Image-Assessment.ipynb"
   ]
  }
 ],
 "metadata": {
  "kernelspec": {
   "display_name": "python-cvcourse",
   "language": "python",
   "name": "python3"
  },
  "language_info": {
   "codemirror_mode": {
    "name": "ipython",
    "version": 3
   },
   "file_extension": ".py",
   "mimetype": "text/x-python",
   "name": "python",
   "nbconvert_exporter": "python",
   "pygments_lexer": "ipython3",
   "version": "3.6.6"
  },
  "orig_nbformat": 4
 },
 "nbformat": 4,
 "nbformat_minor": 2
}
