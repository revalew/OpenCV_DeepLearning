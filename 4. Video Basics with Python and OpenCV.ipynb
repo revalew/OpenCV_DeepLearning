{
 "cells": [
  {
   "attachments": {},
   "cell_type": "markdown",
   "metadata": {},
   "source": [
    "# <strong style=\"color: tomato;\">Video Basics</strong> $\\color{blue}{\\text{}}$\n",
    "---"
   ]
  },
  {
   "attachments": {},
   "cell_type": "markdown",
   "metadata": {},
   "source": [
    "## <span style=\"color: yellowgreen;\">1. </span>Introduction"
   ]
  },
  {
   "attachments": {},
   "cell_type": "markdown",
   "metadata": {},
   "source": [
    "Goals of this section:\n",
    "- Connect OpenCV to a WebCam,\n",
    "- Use OpenCv to open video files,\n",
    "- Draw shapes on video,\n",
    "- Interact with video\n",
    "\n",
    "---\n",
    "<div style=\"text-align:center;\">\n",
    "<span style=\"font-size: 30px; text-transform: uppercase; color: #dad\">webcam is required to follow along with the material in this section!!!</span>\n",
    "</div>\n",
    "\n",
    "---"
   ]
  },
  {
   "attachments": {},
   "cell_type": "markdown",
   "metadata": {},
   "source": [
    "## <span style=\"color: yellowgreen;\">2. </span>Connecting to camera"
   ]
  },
  {
   "attachments": {},
   "cell_type": "markdown",
   "metadata": {},
   "source": [
    "To make it actually work we have to make sure that only one kernel is running."
   ]
  },
  {
   "cell_type": "code",
   "execution_count": 1,
   "metadata": {},
   "outputs": [],
   "source": [
    "import cv2"
   ]
  },
  {
   "attachments": {},
   "cell_type": "markdown",
   "metadata": {},
   "source": [
    "Display the image:"
   ]
  },
  {
   "cell_type": "code",
   "execution_count": 11,
   "metadata": {},
   "outputs": [],
   "source": [
    "# short for capture; 0 => default camera\n",
    "cap = cv2.VideoCapture(0)\n",
    "\n",
    "# getting the w&h of the image because sometimes we may need these \n",
    "width = int(cap.get(cv2.CAP_PROP_FRAME_WIDTH)) # 1080.0 => cast to int\n",
    "height = int(cap.get(cv2.CAP_PROP_FRAME_HEIGHT))\n",
    "\n",
    "#display the image\n",
    "while True:\n",
    "    ret, frame = cap.read()\n",
    "    gray = cv2.cvtColor(frame, cv2.COLOR_BGR2GRAY)\n",
    "    cv2.imshow('frame', frame)\n",
    "\n",
    "    if cv2.waitKey(1) & 0xFF == ord('q'): # ord gets the code of the 1 character string \n",
    "        break\n",
    "cap.release() # we have to close the stream\n",
    "cv2.destroyAllWindows()"
   ]
  },
  {
   "attachments": {},
   "cell_type": "markdown",
   "metadata": {},
   "source": [
    "Write the stream to the video file:"
   ]
  },
  {
   "cell_type": "code",
   "execution_count": 12,
   "metadata": {},
   "outputs": [],
   "source": [
    "cap = cv2.VideoCapture(0)\n",
    "width = int(cap.get(cv2.CAP_PROP_FRAME_WIDTH)) # 1080.0 => cast to int\n",
    "height = int(cap.get(cv2.CAP_PROP_FRAME_HEIGHT))\n",
    "\n",
    "# file we want to save to; CODEC used to write the video; how many frames; (width, height)\n",
    "# the codec for Windows is *'DIVX', Linux / Mac is *'XVID'\n",
    "writer = cv2.VideoWriter('../myTestVideo.mp4', cv2.VideoWriter_fourcc(*'DIVX'), 24, (width, height))\n",
    "\n",
    "while True:\n",
    "    ret, frame = cap.read()\n",
    "\n",
    "    # OPERATIONS (DRAWING)\n",
    "    writer.write(frame) # write the image frame by frame\n",
    "\n",
    "    gray = cv2.cvtColor(frame, cv2.COLOR_BGR2GRAY)\n",
    "    cv2.imshow('frame', frame)\n",
    "\n",
    "    if cv2.waitKey(1) & 0xFF == ord('q'):\n",
    "        break\n",
    "cap.release()\n",
    "writer.release() # release the writer\n",
    "cv2.destroyAllWindows()"
   ]
  },
  {
   "attachments": {},
   "cell_type": "markdown",
   "metadata": {},
   "source": [
    "## <span style=\"color: yellowgreen;\">3. </span>Using video files."
   ]
  },
  {
   "cell_type": "code",
   "execution_count": 1,
   "metadata": {},
   "outputs": [],
   "source": [
    "import cv2\n",
    "\n",
    "# to display the video in \"normal\" speed (ONLY WHEN WE WANT TO ACTUALLY WATCH IT)\n",
    "import time\n",
    "#\n",
    "\n",
    "cap = cv2.VideoCapture('../myTestVideo.mp4')\n",
    "\n",
    "if  not cap.isOpened():\n",
    "    print('Error opening the file! Check the provided path and check the codec.')\n",
    "\n",
    "while cap.isOpened():\n",
    "    ret, frame = cap.read()\n",
    "\n",
    "    # check if it returns something\n",
    "    if ret:\n",
    "        # we specified that the video is recorded in 24 FPS in writer\n",
    "        # sleep once per specified (known) frame:\n",
    "        time.sleep(1/24)\n",
    "        # OR we can do something like:\n",
    "        # time.sleep(cap.get(cv2.CAP_PROP_FRAME_COUNT))\n",
    "        #\n",
    "\n",
    "        cv2.imshow('frame', frame)\n",
    "\n",
    "        if cv2.waitKey(10) & 0xFF == ord('q'):\n",
    "            break\n",
    "    \n",
    "    else:\n",
    "        break\n",
    "\n",
    "cap.release()\n",
    "cv2.destroyAllWindows()"
   ]
  },
  {
   "attachments": {},
   "cell_type": "markdown",
   "metadata": {},
   "source": [
    "## <span style=\"color: yellowgreen;\">4. </span>Drawing on live camera."
   ]
  },
  {
   "attachments": {},
   "cell_type": "markdown",
   "metadata": {},
   "source": [
    "Drawing static shapes on the video stream:"
   ]
  },
  {
   "cell_type": "code",
   "execution_count": 3,
   "metadata": {},
   "outputs": [],
   "source": [
    "import cv2\n",
    "\n",
    "cap = cv2.VideoCapture(0) # from camera\n",
    "width = int(cap.get(cv2.CAP_PROP_FRAME_WIDTH))\n",
    "height = int(cap.get(cv2.CAP_PROP_FRAME_HEIGHT))\n",
    "\n",
    "# TOP LEFT corner (beginning of the rectangle)\n",
    "x = width // 2 # // => keep the values as int\n",
    "y = height // 2\n",
    "# width and height OF THE RECTANGLE we want to draw\n",
    "w = width // 4\n",
    "h = height // 4\n",
    "# BOTOM RIGHT corner (end of the rectangle; x + w) \n",
    "\n",
    "while True:\n",
    "    ret, frame = cap.read()\n",
    "    cv2.rectangle(frame, (x, y), (x + w, y + h), (255, 255, 0), -1)\n",
    "\n",
    "    cv2.imshow('frame', frame)\n",
    "\n",
    "    if cv2.waitKey(10) & 0xFF == 27:\n",
    "        break\n",
    "\n",
    "cap.release()\n",
    "cv2.destroyAllWindows()"
   ]
  },
  {
   "attachments": {},
   "cell_type": "markdown",
   "metadata": {},
   "source": [
    "Interactive drawing on the video:"
   ]
  },
  {
   "cell_type": "code",
   "execution_count": 7,
   "metadata": {},
   "outputs": [],
   "source": [
    "import cv2\n",
    "\n",
    "# defining a callback function to draw a rectangle\n",
    "def drawRectangle(event, x, y, flags, param):\n",
    "    global pt1, pt2, topLeft_clicked, bottomRight_clicked\n",
    "    if event == cv2.EVENT_LBUTTONDOWN:\n",
    "\n",
    "        # RESET the rectangle\n",
    "        if topLeft_clicked and bottomRight_clicked:\n",
    "            pt1 = (0, 0)\n",
    "            pt2 = (0, 0)\n",
    "            topLeft_clicked = False\n",
    "            bottomRight_clicked = False\n",
    "\n",
    "        if not topLeft_clicked:\n",
    "            pt1 = (x, y)\n",
    "            topLeft_clicked = True\n",
    "\n",
    "        elif not bottomRight_clicked:\n",
    "            pt2 = (x, y)\n",
    "            bottomRight_clicked = True\n",
    "\n",
    "# Global variables\n",
    "pt1 = (0, 0)\n",
    "pt2 = (0, 0)\n",
    "topLeft_clicked = False\n",
    "bottomRight_clicked = False\n",
    "\n",
    "# connect to the callback\n",
    "cap = cv2.VideoCapture(0) # from camera\n",
    "cv2.namedWindow('frame')\n",
    "cv2.setMouseCallback('frame', drawRectangle)\n",
    "\n",
    "\n",
    "while True:\n",
    "    ret, frame = cap.read()\n",
    "\n",
    "    # drawing on the frame based off of the glbal variables\n",
    "    if topLeft_clicked:\n",
    "        cv2.circle(frame, pt1, 5, (0, 0, 255), -1)\n",
    "    if topLeft_clicked and bottomRight_clicked:\n",
    "        cv2.rectangle(frame, pt1, pt2, (0, 0, 255), 3)\n",
    "    cv2.imshow('frame', frame)\n",
    "\n",
    "    if cv2.waitKey(10) & 0xFF == 27:\n",
    "        break\n",
    "\n",
    "cap.release()\n",
    "cv2.destroyAllWindows()"
   ]
  },
  {
   "attachments": {},
   "cell_type": "markdown",
   "metadata": {},
   "source": [
    "## <span style=\"color: yellowgreen;\">5. </span>Video Basics assessment."
   ]
  },
  {
   "attachments": {},
   "cell_type": "markdown",
   "metadata": {},
   "source": [
    "In separate notebook:\n",
    "\n",
    "D:\\1KURSY\\Kurs Python\\OpenCV_DL\\Notebooks\\Assessments\\4. 03-Video-Basics-Assessment"
   ]
  }
 ],
 "metadata": {
  "kernelspec": {
   "display_name": "python-cvcourse",
   "language": "python",
   "name": "python3"
  },
  "language_info": {
   "codemirror_mode": {
    "name": "ipython",
    "version": 3
   },
   "file_extension": ".py",
   "mimetype": "text/x-python",
   "name": "python",
   "nbconvert_exporter": "python",
   "pygments_lexer": "ipython3",
   "version": "3.6.6"
  },
  "orig_nbformat": 4
 },
 "nbformat": 4,
 "nbformat_minor": 2
}
