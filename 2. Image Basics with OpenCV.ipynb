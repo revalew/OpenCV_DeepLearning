{
 "cells": [
  {
   "attachments": {},
   "cell_type": "markdown",
   "metadata": {},
   "source": [
    "# <strong style=\"color: tomato;\">Image Basics</strong>$\\color{blue}{\\text{}}$ \n",
    "---"
   ]
  },
  {
   "attachments": {},
   "cell_type": "markdown",
   "metadata": {},
   "source": [
    "## <span style=\"color: yellowgreen;\">1. </span>Goals of this section."
   ]
  },
  {
   "attachments": {},
   "cell_type": "markdown",
   "metadata": {},
   "source": [
    "In this section we will learn how to:\n",
    "- Open image files with OpenCV (both notebook & py script),\n",
    "- Draw simple geometries on the images,\n",
    "- Ineract with images through callbacks."
   ]
  },
  {
   "attachments": {},
   "cell_type": "markdown",
   "metadata": {},
   "source": [
    "## <span style=\"color: yellowgreen;\">2. </span>Opening image files in the notebook."
   ]
  },
  {
   "attachments": {},
   "cell_type": "markdown",
   "metadata": {},
   "source": [
    "### <span style=\"color: royalblue;\">a) </span>Set-Up"
   ]
  },
  {
   "cell_type": "code",
   "execution_count": null,
   "metadata": {},
   "outputs": [],
   "source": [
    "import numpy as np\n",
    "import matplotlib.pyplot as plt\n",
    "%matplotlib inline"
   ]
  },
  {
   "cell_type": "code",
   "execution_count": null,
   "metadata": {},
   "outputs": [],
   "source": [
    "import cv2 # importing the OpenCV library"
   ]
  },
  {
   "cell_type": "code",
   "execution_count": null,
   "metadata": {},
   "outputs": [],
   "source": [
    "# If we provide the wrong path to the imread() method there is no error. Instead this returns a \"NoneType\" type.\n",
    "img = cv2.imread('./Computer-Vision-with-Python/DATA/00-puppy.jpg')\n",
    "type(img) # instantly open it as an array without the need to change its type\n",
    "img.shape # 3D array\n",
    "plt.imshow(img)"
   ]
  },
  {
   "attachments": {},
   "cell_type": "markdown",
   "metadata": {},
   "source": [
    "### <span style=\"color: royalblue;\">b) </span>Different order of presenting the colors by Mathplotlib & OpenCV"
   ]
  },
  {
   "attachments": {},
   "cell_type": "markdown",
   "metadata": {},
   "source": [
    "The difference:\n",
    "- MATHPLOTLIB --> RGB (Red, Green, Blue),\n",
    "- OPENCV --> BRG (Blue, Green, Red).\n",
    "Because of that the img shown in the code block above has a blue tint (is not the same as the original).\n",
    "\n",
    "cv2 has a method to swap the color and fix the way it is displayed:"
   ]
  },
  {
   "cell_type": "code",
   "execution_count": null,
   "metadata": {},
   "outputs": [],
   "source": [
    "img_fixed = cv2.cvtColor(img, cv2.COLOR_BGR2RGB) # change the order of colors from BRG to RGB (as the name that colourway suggests)\n",
    "plt.imshow(img_fixed)"
   ]
  },
  {
   "cell_type": "code",
   "execution_count": null,
   "metadata": {},
   "outputs": [],
   "source": [
    "# Instantly load the image in grayscale\n",
    "img_gray = cv2.imread('./Computer-Vision-with-Python/DATA/00-puppy.jpg', cv2.IMREAD_GRAYSCALE )\n",
    "img_gray.shape # now it is just a 2D array (1300, 1950)\n",
    "plt.imshow(img_gray, cmap=\"gray\") # again default imshow() color mapping is some different type so we have to adjust it and pass the gray as 2nd argument"
   ]
  },
  {
   "attachments": {},
   "cell_type": "markdown",
   "metadata": {},
   "source": [
    "### <span style=\"color: royalblue;\">c) </span>Resizing images"
   ]
  },
  {
   "cell_type": "code",
   "execution_count": null,
   "metadata": {},
   "outputs": [],
   "source": [
    "img_smol = cv2.resize(img_fixed, (600,400)) # resize to a specific size\n",
    "plt.imshow(img_smol)"
   ]
  },
  {
   "cell_type": "code",
   "execution_count": null,
   "metadata": {},
   "outputs": [],
   "source": [
    "# resize with a scale\n",
    "widthRatio = .5 # % of original\n",
    "heightRatio = .5\n",
    "img_smol2 = cv2.resize(img_fixed, (0, 0), img_fixed, widthRatio, heightRatio) # img to resize, base scale, img to resize, width ratio, height ratio\n",
    "plt.imshow(img_smol2)"
   ]
  },
  {
   "attachments": {},
   "cell_type": "markdown",
   "metadata": {},
   "source": [
    "### <span style=\"color: royalblue;\">d) </span>Flip images along the horizontal / vertical axis"
   ]
  },
  {
   "cell_type": "code",
   "execution_count": null,
   "metadata": {},
   "outputs": [],
   "source": [
    "img_fliped = cv2.flip(img_fixed, -1) # img to flip, 0 => horizontal axis, 1 => vertical axis, -1 => horizontal AND vertical\n",
    "plt.imshow(img_fliped)"
   ]
  },
  {
   "attachments": {},
   "cell_type": "markdown",
   "metadata": {},
   "source": [
    "### <span style=\"color: royalblue;\">e) </span>Save the image file"
   ]
  },
  {
   "cell_type": "code",
   "execution_count": null,
   "metadata": {},
   "outputs": [],
   "source": [
    "type(img_fliped) # NumPy array\n",
    "img_fliped = cv2.cvtColor(img_fliped, cv2.COLOR_BGR2RGB)\n",
    "# imwrite() again reverses the colors to BGR which is stupid, but we can either do another conversion on \"img_fixed / img_fliped\" OR use the original \"img\" instead of the \"img_fixed\"\n",
    "cv2.imwrite('dog_flip.jpg', img_fliped) # save the image - name, img; writes the specified image to the given jpg file"
   ]
  },
  {
   "attachments": {},
   "cell_type": "markdown",
   "metadata": {},
   "source": [
    "### <span style=\"color: royalblue;\">f) </span>Changing the allowed canvas space to display the image"
   ]
  },
  {
   "cell_type": "code",
   "execution_count": null,
   "metadata": {},
   "outputs": [],
   "source": [
    "fig = plt.figure(figsize=(10, 8)) # 10, 8 --> figure size\n",
    "fig = plt.figure(figsize=(2, 2)) # very smol\n",
    "ax = fig.add_subplot(111) # 1x1 subplot a 1 single image ???\n",
    "ax.imshow(img_fixed)"
   ]
  },
  {
   "attachments": {},
   "cell_type": "markdown",
   "metadata": {},
   "source": [
    "## <span style=\"color: yellowgreen;\">3. </span>Opening image files from a script in a separate window outside of Jupyter."
   ]
  },
  {
   "attachments": {},
   "cell_type": "markdown",
   "metadata": {},
   "source": [
    "### <span style=\"color: royalblue;\">a) </span>Introduction"
   ]
  },
  {
   "attachments": {},
   "cell_type": "markdown",
   "metadata": {},
   "source": [
    "This implementation is weird because of the way Jupyter works and needs to restart the kernel after launching:"
   ]
  },
  {
   "cell_type": "code",
   "execution_count": null,
   "metadata": {},
   "outputs": [],
   "source": [
    "import cv2\n",
    "img = cv2.imread('./Computer-Vision-with-Python/DATA/00-puppy.jpg')\n",
    "cv2.imshow('Puppy', img) # name of the window to display the image in, the actual image\n",
    "cv2.waitKey() # parameter to click the button to close the window"
   ]
  },
  {
   "attachments": {},
   "cell_type": "markdown",
   "metadata": {},
   "source": [
    "We can solve it by running a separate python script:"
   ]
  },
  {
   "cell_type": "code",
   "execution_count": null,
   "metadata": {},
   "outputs": [],
   "source": [
    "%run \"myPuppy.py\""
   ]
  },
  {
   "attachments": {},
   "cell_type": "markdown",
   "metadata": {},
   "source": [
    "Or just by adding the modified script here to the notebook:"
   ]
  },
  {
   "cell_type": "code",
   "execution_count": null,
   "metadata": {},
   "outputs": [],
   "source": [
    "import cv2\n",
    "img = cv2.imread('./Computer-Vision-with-Python/DATA/00-puppy.jpg')\n",
    "# img = cv2.resize(img, (0, 0), img, .5, .5)\n",
    "while True:\n",
    "    cv2.imshow('Puppy', img) # name of the window to display the image in, the actual image\n",
    "    if cv2.waitKey(1) & 0xFF == 27: # if we waited at least 1 ms AND (&) we pressed the Esc key\n",
    "        break\n",
    "cv2.destroyAllWindows()"
   ]
  },
  {
   "attachments": {},
   "cell_type": "markdown",
   "metadata": {},
   "source": [
    "### <span style=\"color: royalblue;\">b) </span>Drawing on images - part one: basic shapes"
   ]
  },
  {
   "attachments": {},
   "cell_type": "markdown",
   "metadata": {},
   "source": [
    "Standard import section we will do most of the time:"
   ]
  },
  {
   "cell_type": "code",
   "execution_count": null,
   "metadata": {},
   "outputs": [],
   "source": [
    "import cv2\n",
    "import numpy as np\n",
    "\n",
    "import matplotlib.pyplot as plt\n",
    "%matplotlib inline"
   ]
  },
  {
   "cell_type": "code",
   "execution_count": null,
   "metadata": {},
   "outputs": [],
   "source": [
    "blank_img = np.zeros(shape=(512,512,3), dtype=np.int16) # specify the datatype to ba a 16 bit integer"
   ]
  },
  {
   "cell_type": "code",
   "execution_count": null,
   "metadata": {},
   "outputs": [],
   "source": [
    "plt.imshow(blank_img) # displays the blank img. All values are set to 0 so it is a pure black rectangle."
   ]
  },
  {
   "attachments": {},
   "cell_type": "markdown",
   "metadata": {},
   "source": [
    "Drawing simple rectangle:\n",
    "\n",
    "This does not return any new picture => it permanently adds the rectangle to the given image (destructive method)"
   ]
  },
  {
   "cell_type": "code",
   "execution_count": null,
   "metadata": {},
   "outputs": [],
   "source": [
    "blank_img = np.zeros(shape=(512,512,3), dtype=np.int16) # Reset the image as this is a destructive method\n",
    "cv2.rectangle(blank_img, pt1=(384, 10), pt2=(500, 150), color=(0, 255, 0), thickness=10)\n",
    "# image we want to draw on, point 1 as a tuple and pt2 also as a tuple, color is an RGB value, thickness is the line width in px\n",
    "# pt1 => TOP LEFT corner, pt2 => BOTTOM RIGHT corner\n",
    "\n",
    "plt.imshow(blank_img)"
   ]
  },
  {
   "cell_type": "code",
   "execution_count": null,
   "metadata": {},
   "outputs": [],
   "source": [
    "cv2.rectangle(blank_img, pt1=(200, 200), pt2=(300, 300), color=(0, 0, 255), thickness=10)\n",
    "plt.imshow(blank_img)"
   ]
  },
  {
   "attachments": {},
   "cell_type": "markdown",
   "metadata": {},
   "source": [
    "Drawing a circle:"
   ]
  },
  {
   "cell_type": "code",
   "execution_count": null,
   "metadata": {},
   "outputs": [],
   "source": [
    "cv2.circle(img=blank_img, center=(100, 100), radius=50, color=(255,0,0), thickness=8)\n",
    "plt.imshow(blank_img)"
   ]
  },
  {
   "attachments": {},
   "cell_type": "markdown",
   "metadata": {},
   "source": [
    "We can fill the shape by specifying the thickness as \"-1\""
   ]
  },
  {
   "cell_type": "code",
   "execution_count": null,
   "metadata": {},
   "outputs": [],
   "source": [
    "cv2.circle(img=blank_img, center=(400, 400), radius=50, color=(208,160,208), thickness=-1)\n",
    "plt.imshow(blank_img)"
   ]
  },
  {
   "attachments": {},
   "cell_type": "markdown",
   "metadata": {},
   "source": [
    "Drawing a line:"
   ]
  },
  {
   "cell_type": "code",
   "execution_count": null,
   "metadata": {},
   "outputs": [],
   "source": [
    "cv2.line(blank_img, pt1=(0, 0), pt2=(512, 512), color=(102, 255, 255), thickness=5)\n",
    "plt.imshow(blank_img)"
   ]
  },
  {
   "attachments": {},
   "cell_type": "markdown",
   "metadata": {},
   "source": [
    "### <span style=\"color: royalblue;\">c) </span>Drawing on images - part two: text and polygons"
   ]
  },
  {
   "attachments": {},
   "cell_type": "markdown",
   "metadata": {},
   "source": [
    "Text:"
   ]
  },
  {
   "cell_type": "code",
   "execution_count": null,
   "metadata": {},
   "outputs": [],
   "source": [
    "font = cv2.FONT_HERSHEY_SIMPLEX # standard font but all of the cv2 fonts are kinda ugly\n",
    "cv2.putText(blank_img, text='Hello', org=(10, 500), fontFace=font, fontScale=4, color=(255, 255, 255), thickness=3, lineType=cv2.LINE_AA) # org is the BOTTOM LEFT corner of the text\n",
    "plt.imshow(blank_img)"
   ]
  },
  {
   "attachments": {},
   "cell_type": "markdown",
   "metadata": {},
   "source": [
    "Custom polygons:"
   ]
  },
  {
   "cell_type": "code",
   "execution_count": null,
   "metadata": {},
   "outputs": [],
   "source": [
    "blank_img = np.zeros(shape=(512, 512, 3), dtype=np.int32)\n",
    "plt.imshow(blank_img)"
   ]
  },
  {
   "cell_type": "code",
   "execution_count": null,
   "metadata": {},
   "outputs": [],
   "source": [
    "vertices = np.array([[100, 300], [200, 200], [400, 300], [200, 400]], dtype=np.int32) # creating the array of coordinates\n",
    "vertices.shape # 2D array, but we need a 3D\n",
    "pts = vertices.reshape((-1, 1, 2)) # change the array dimension"
   ]
  },
  {
   "cell_type": "code",
   "execution_count": null,
   "metadata": {},
   "outputs": [],
   "source": [
    "vertices.shape\n",
    "pts.shape\n",
    "\n",
    "cv2.polylines(blank_img, [pts], isClosed=True, color=(255, 0, 0), thickness=5) # we have to pass the pts as a list; we can specify whether the shape is closed or not\n",
    "plt.imshow(blank_img)"
   ]
  },
  {
   "attachments": {},
   "cell_type": "markdown",
   "metadata": {},
   "source": [
    "### <span style=\"color: royalblue;\">d) </span>Direct drawing on images with a mouse - part one"
   ]
  },
  {
   "attachments": {},
   "cell_type": "markdown",
   "metadata": {},
   "source": [
    "We can use callback to connect images to event function with OpenCV, which allows us to directly interact with images (and even videos later on).\n",
    "\n",
    "In this section we will learn how to:\n",
    "- connect callback functions (part 1)\n",
    "- add functionality through Event Choices (part 2)\n",
    "- dragg the mouse for functionality (part 3)"
   ]
  },
  {
   "cell_type": "code",
   "execution_count": 36,
   "metadata": {},
   "outputs": [],
   "source": [
    "import cv2\n",
    "import numpy as np\n",
    "\n",
    "# Function: (connects to the imshow() through the name of the window)\n",
    "def drawCircle(event, x, y, flags,param):\n",
    "    if event == cv2.EVENT_LBUTTONDOWN:\n",
    "        cv2.circle(img, (x, y), 100, (255, 0, 0), -1)\n",
    "\n",
    "cv2.namedWindow(winname='my_image') # window name has to match exactly with the name given in imshow\n",
    "cv2.setMouseCallback('my_image', drawCircle) # connecting the callback to the named window\n",
    "\n",
    "\n",
    "# Showing image with OpenCV:\n",
    "# img = np.zeros((512, 512, 3), np.int16)\n",
    "img = np.zeros((512, 512, 3))\n",
    "while True:\n",
    "    cv2.imshow('my_image', img)\n",
    "    if cv2.waitKey(20) & 0xFF == 27:\n",
    "        break\n",
    "cv2.destroyAllWindows()"
   ]
  },
  {
   "attachments": {},
   "cell_type": "markdown",
   "metadata": {},
   "source": [
    "### <span style=\"color: royalblue;\">e) </span>Direct drawing on images with a mouse - part two"
   ]
  },
  {
   "cell_type": "code",
   "execution_count": 1,
   "metadata": {},
   "outputs": [],
   "source": [
    "import cv2\n",
    "import numpy as np\n",
    "\n",
    "# Function: (connects to the imshow() through the name of the window)\n",
    "def drawCircle(event, x, y, flags,param):\n",
    "    if event == cv2.EVENT_LBUTTONDOWN:\n",
    "        cv2.circle(img, (x, y), 100, (255, 0, 0), -1)\n",
    "    elif event == cv2.EVENT_RBUTTONDOWN:\n",
    "        cv2.circle(img, (x, y), 100, (0, 0, 255), -1)\n",
    "\n",
    "cv2.namedWindow(winname='my_image') # window name has to match exactly with the name given in imshow\n",
    "cv2.setMouseCallback('my_image', drawCircle) # connecting the callback to the named window\n",
    "\n",
    "\n",
    "# Showing image with OpenCV:\n",
    "# img = np.zeros((512, 512, 3), np.int16)\n",
    "img = np.zeros((512, 512, 3))\n",
    "while True:\n",
    "    cv2.imshow('my_image', img)\n",
    "    if cv2.waitKey(20) & 0xFF == 27:\n",
    "        break\n",
    "cv2.destroyAllWindows()"
   ]
  },
  {
   "attachments": {},
   "cell_type": "markdown",
   "metadata": {},
   "source": [
    "### <span style=\"color: royalblue;\">f) </span>Direct drawing on images with a mouse - part three"
   ]
  },
  {
   "cell_type": "code",
   "execution_count": 3,
   "metadata": {},
   "outputs": [],
   "source": [
    "import cv2\n",
    "import numpy as np\n",
    "\n",
    "# VARIABLES\n",
    "drawing = False # change to true when the mouse is pressed down and change back to false when it is released \n",
    "ix, iy = -1, -1\n",
    "\n",
    "# FUNCTION\n",
    "def drawRectangle(event, x, y, flags, param):\n",
    "    global ix, iy, drawing\n",
    "    \n",
    "    if event == cv2.EVENT_LBUTTONDOWN:\n",
    "        drawing = True\n",
    "        ix, iy = x, y\n",
    "    elif event == cv2.EVENT_MOUSEMOVE:\n",
    "        if drawing:\n",
    "            cv2.rectangle(img, (ix, iy), (x, y), (0, 0, 255), -1)\n",
    "    elif event == cv2.EVENT_LBUTTONUP:\n",
    "        drawing = False\n",
    "        cv2.rectangle(img, (ix, iy), (x, y), (0, 0, 255), -1)\n",
    "\n",
    "# SHOWING THE IMAGE\n",
    "img = np.zeros((512, 512, 3)) # black image\n",
    "\n",
    "cv2.namedWindow(winname='my_drawing')\n",
    "cv2.setMouseCallback('my_drawing', drawRectangle)\n",
    "\n",
    "while True:\n",
    "    cv2.imshow('my_drawing', img)\n",
    "    \n",
    "    # checks for Esc key\n",
    "    if cv2.waitKey(1) & 0xFF == 27:\n",
    "        break\n",
    "\n",
    "cv2.destroyAllWindows()"
   ]
  },
  {
   "attachments": {},
   "cell_type": "markdown",
   "metadata": {},
   "source": [
    "## <span style=\"color: yellowgreen;\">4. </span>Image basics assessment."
   ]
  },
  {
   "attachments": {},
   "cell_type": "markdown",
   "metadata": {},
   "source": [
    "In separate notebook:\n",
    "\n",
    "D:\\1KURSY\\Kurs Python\\OpenCV_DL\\Notebooks\\Assessments\\2. 04-Image-Basics-Assessment.ipynb"
   ]
  }
 ],
 "metadata": {
  "kernelspec": {
   "display_name": "python-cvcourse",
   "language": "python",
   "name": "python3"
  },
  "language_info": {
   "codemirror_mode": {
    "name": "ipython",
    "version": 3
   },
   "file_extension": ".py",
   "mimetype": "text/x-python",
   "name": "python",
   "nbconvert_exporter": "python",
   "pygments_lexer": "ipython3",
   "version": "3.6.6"
  },
  "orig_nbformat": 4
 },
 "nbformat": 4,
 "nbformat_minor": 2
}
