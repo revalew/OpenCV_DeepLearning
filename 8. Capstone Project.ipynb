{
 "cells": [
  {
   "attachments": {},
   "cell_type": "markdown",
   "metadata": {},
   "source": [
    "# <strong style=\"color: tomato;\">Capstone Project</strong> $\\color{blue}{\\text{}}$\n",
    "---"
   ]
  },
  {
   "attachments": {},
   "cell_type": "markdown",
   "metadata": {},
   "source": [
    "## <span style=\"color: yellowgreen;\">1. </span>Introduction."
   ]
  },
  {
   "attachments": {},
   "cell_type": "markdown",
   "metadata": {},
   "source": [
    "We will be creating a program that can detect a hand, segment the hand, and count the number of fingers being held up.\n",
    "\n",
    "&ensp;\n"
   ]
  },
  {
   "attachments": {},
   "cell_type": "markdown",
   "metadata": {},
   "source": [
    "## <span style=\"color: yellowgreen;\">2. </span>Variables and background."
   ]
  },
  {
   "attachments": {},
   "cell_type": "markdown",
   "metadata": {},
   "source": [
    "**Part One**:\n",
    "\n",
    "- First let’s define some global variables.\n",
    "- Afterwards, we’ll set up a function that updates a running average of the background values in an ROI. This will later on allow us to detect new objects (hand) in the ROI.\n",
    "\n",
    "&ensp;\n",
    "\n",
    "**Strategy for counting fingers**:\n",
    "- Grab an ROI\n",
    "- Calculate a running average background value for 60 frames of video\n",
    "- Once avg value is found, then the hand can enter the ROI.\n",
    "\n",
    "Set an ROI and calculate the average running value for some amount of frames. Then once a hand enters, we can detect a change and apply thresholding. After the thresholding:\n",
    "\n",
    "- Once the hand enters the ROI, we will use a Convex Hull to draw a polygon around the hand.\n",
    "- Using some math, we’ll calculate the center of the hand against the angle of outer points to infer finger count. Keep in mind this strategy won’t be perfect."
   ]
  },
  {
   "attachments": {},
   "cell_type": "markdown",
   "metadata": {},
   "source": [
    "**Imports**:"
   ]
  },
  {
   "cell_type": "code",
   "execution_count": 22,
   "metadata": {},
   "outputs": [],
   "source": [
    "import cv2\n",
    "import numpy as np\n",
    "\n",
    "# used for distance calculation later on\n",
    "from sklearn.metrics import pairwise"
   ]
  },
  {
   "attachments": {},
   "cell_type": "markdown",
   "metadata": {},
   "source": [
    "**Global variables**:"
   ]
  },
  {
   "cell_type": "code",
   "execution_count": 23,
   "metadata": {},
   "outputs": [],
   "source": [
    "# this will be a global variable that we update through a few functions\n",
    "background = None\n",
    "\n",
    "# start with a halfway point between 0 and 1 of accumulated weight\n",
    "accumulated_weight = 0.5\n",
    "\n",
    "# manually set up our ROI for grabbing the hand.\n",
    "# feel free to change these (top right)\n",
    "roi_top = 20\n",
    "roi_bottom = 300\n",
    "roi_right = 300\n",
    "roi_left = 600"
   ]
  },
  {
   "attachments": {},
   "cell_type": "markdown",
   "metadata": {},
   "source": [
    "**Finding average background value**:\n",
    "\n",
    "The function calculates the weighted sum of the input image src and the accumulator dst so that dst becomes a running average of a frame sequence:"
   ]
  },
  {
   "cell_type": "code",
   "execution_count": 24,
   "metadata": {},
   "outputs": [],
   "source": [
    "def calculate_accumulated_avg(frame, accumulated_weight):\n",
    "    '''\n",
    "    Given a frame and a previous accumulated weight, computed the weighted average of the image passed in.\n",
    "    '''\n",
    "    \n",
    "    global background\n",
    "\n",
    "    # for first time, create the background from a copy of the frame.\n",
    "    if background is None:\n",
    "        background = (frame).copy().astype('float')\n",
    "        return None\n",
    "    \n",
    "    # compute weighted average, accumulate it and update the background\n",
    "    # we are not returning the avg. We only return None on the startup of the program\n",
    "    # src, dst, alpha\n",
    "    cv2.accumulateWeighted(frame, background, accumulated_weight)\n"
   ]
  },
  {
   "attachments": {},
   "cell_type": "markdown",
   "metadata": {},
   "source": [
    "The next step is to use thresholding to grab the hand segment from the ROI. We will create a function that can do this.\n",
    "\n",
    "&ensp;\n"
   ]
  },
  {
   "attachments": {},
   "cell_type": "markdown",
   "metadata": {},
   "source": [
    "## <span style=\"color: yellowgreen;\">3. </span>Segmentation."
   ]
  },
  {
   "attachments": {},
   "cell_type": "markdown",
   "metadata": {},
   "source": [
    "**Segment the hand region in frame**:"
   ]
  },
  {
   "cell_type": "code",
   "execution_count": 25,
   "metadata": {},
   "outputs": [],
   "source": [
    "def segment(frame, threshold=25): # may want to play arround with thata value\n",
    "    global background\n",
    "\n",
    "    # calculates the Absolute Differentce between the backgroud and the passed in frame\n",
    "    diff = cv2.absdiff(background.astype('uint8'), frame)\n",
    "\n",
    "    # Apply a threshold to the image so we can grab the foreground\n",
    "    # We only need the threshold, so we can throw away the first item in the tuple with an underscore _\n",
    "    _, thresholded = cv2.threshold(diff, threshold, 255, cv2.THRESH_BINARY)\n",
    "\n",
    "    # grab external contours from the image\n",
    "    # again, only grabbing what we need here so we can throw away the rest\n",
    "    # _, contours, _ = cv2.findContours(thresholded.copy(), cv2.RETR_EXTERNAL, cv2.CHAIN_APPROX_SIMPLE)\n",
    "    image, contours, hierarchy = cv2.findContours(thresholded.copy(), cv2.RETR_EXTERNAL, cv2.CHAIN_APPROX_SIMPLE)\n",
    "\n",
    "    # ff length of contours list is 0, then we didn't grab any contours => return None\n",
    "    if len(contours) == 0:\n",
    "        return None\n",
    "    else:\n",
    "        # assuming the largest external contour in ROI is the hand (largest by area)\n",
    "        # This will be our segment\n",
    "        hand_segment = max(contours, key=cv2.contourArea)\n",
    "\n",
    "        # return both the hand segment and the thresholded hand image\n",
    "        return (thresholded, hand_segment)\n"
   ]
  },
  {
   "attachments": {},
   "cell_type": "markdown",
   "metadata": {},
   "source": [
    "## <span style=\"color: yellowgreen;\">4. </span>Counting and Convex Hull."
   ]
  },
  {
   "attachments": {},
   "cell_type": "markdown",
   "metadata": {},
   "source": [
    "**Counting fingers with a Convex Hull**:\n",
    "\n",
    "Now that we have the hand segment, the next step is to actually count the fingers being held up. We can do this by utilizing a **Convex Hull**. A convex hull draws a polygon by connecting points around the most external points in a frame.\n",
    "\n",
    "<div style=\"display: flex; justify-content: center; align-items: center; text-align: center;\"><div style=\"margin-top: 0.5em; margin-bottom: -0.3em; width: 35%;\">\n",
    "<img src=\"./src/img/CAP/CAP_1.png\">\n",
    "</div></div>\n",
    "\n",
    "&ensp;\n",
    "\n",
    "In our case, this set of points is actually just our thresholded image of a hand (and the external contour information):\n",
    "\n",
    "<div style=\"display: flex; justify-content: center; align-items: center; text-align: center;\"><div style=\"margin-top: 0.5em; margin-bottom: -0.3em; width: 35%;\">\n",
    "<img src=\"./src/img/CAP/CAP_2.png\">\n",
    "</div></div>\n",
    "\n",
    "&ensp;\n",
    "\n",
    "We can expect a general shape of our polygon to be something like this (notice that we’ll need to account for lines from the wrist):\n",
    "\n",
    "<div style=\"display: flex; justify-content: center; align-items: center; text-align: center;\"><div style=\"margin-top: 0.5em; margin-bottom: -0.3em; width: 35%;\">\n",
    "<img src=\"./src/img/CAP/CAP_3.png\">\n",
    "</div></div>\n",
    "\n",
    "&ensp;\n",
    "\n",
    "- First we will calculate the most extreme points (top, bottom, left, and right).\n",
    "- We can then calculate their intersection and estimate that as the center of the hand\n",
    "- Next we will calculate the distance for the point furthest away from the center\n",
    "\n",
    "<div style=\"display: flex; justify-content: center; align-items: center; text-align: center;\"><div style=\"margin-top: 0.5em; margin-bottom: -0.3em; width: 35%;\">\n",
    "<img src=\"./src/img/CAP/CAP_4.png\">\n",
    "</div></div>\n",
    "\n",
    "&ensp;\n",
    "\n",
    "Then using a ratio of that distance we create a circle. Any points outside of this circle and far away enough from the bottom, should be extended fingers.\n",
    "\n",
    "<div style=\"display: flex; justify-content: center; align-items: center; text-align: center;\"><div style=\"margin-top: 0.5em; margin-bottom: -0.3em; width: 35%;\">\n",
    "<img src=\"./src/img/CAP/CAP_5.png\">\n",
    "</div></div>"
   ]
  },
  {
   "cell_type": "code",
   "execution_count": 26,
   "metadata": {},
   "outputs": [],
   "source": [
    "def count_fingers(thresholded, hand_segment):\n",
    "    # global background\n",
    "\n",
    "    # Calculate the convex hull of the hand segment\n",
    "    conv_hull = cv2.convexHull(hand_segment)\n",
    "\n",
    "    # grab the extreme points\n",
    "\n",
    "    # Now the convex hull will have at least 4 most outward points, on the top, bottom, left, and right.\n",
    "    # Let's grab those points by using argmin and argmax. Keep in mind, this would require reading the documentation\n",
    "    # and understanding the general array shape returned by the conv hull.\n",
    "    # We will be referencing the documentation as the implementation of the convex is complicated\n",
    "\n",
    "    # Find the top, bottom, left , and right. Then make sure they are in tuple format\n",
    "    top = tuple(conv_hull[conv_hull[:, :, 1].argmin()][0]) # tuple of X and Y coordinates\n",
    "    bottom = tuple(conv_hull[conv_hull[:, :, 1].argmax()][0])\n",
    "    left   = tuple(conv_hull[conv_hull[:, :, 0].argmin()][0])\n",
    "    right  = tuple(conv_hull[conv_hull[:, :, 0].argmax()][0])\n",
    "\n",
    "    # In theory, the center of the hand is half way between the top and bottom and halfway between left and right\n",
    "    centerX = (left[0] + right[0]) // 2 # we want to make shure that it is an int\n",
    "    centerY = (top[1] + bottom[1]) // 2\n",
    "\n",
    "    # find the maximum euclidean distance between the center of the palm\n",
    "    # and the most extreme points of the convex hull\n",
    "    distance = pairwise.euclidean_distances([(centerX, centerY)], Y=[left, right, top, bottom])[0]\n",
    "\n",
    "    # Grab the largest distance\n",
    "    max_distance = distance.max()\n",
    "\n",
    "    # Create a circle with 90% radius of the max euclidean distance\n",
    "    radius = int(max_distance * 0.85)\n",
    "    circumference = (2 * np.pi * radius)\n",
    "\n",
    "    # Now grab an ROI of only that circle\n",
    "    #  we only want the x and y, we do not care about the color channel\n",
    "    circular_roi = np.zeros(thresholded.shape[:2], dtype=\"uint8\")\n",
    "    # circular_roi = np.zeros(thresholded[:2], dtype='uint8')\n",
    "\n",
    "    # draw the circular ROI\n",
    "    cv2.circle(circular_roi, (centerX, centerY), radius, 255, 10)\n",
    "\n",
    "    # Using bit-wise AND with the cirle ROI as a mask.\n",
    "    # This then returns the cut out obtained using the mask on the thresholded hand image.\n",
    "    circular_roi= cv2.bitwise_and(thresholded, thresholded, mask=circular_roi)\n",
    "\n",
    "    # grab all the contours in this circular roi image and hierarchy could be discarded with _\n",
    "    image, contours, hierarchy = cv2.findContours(circular_roi.copy(), cv2.RETR_EXTERNAL, cv2.CHAIN_APPROX_NONE)\n",
    "\n",
    "    # count the no of points outside the circle\n",
    "    # Finger count starts at 0\n",
    "    count = 0\n",
    "\n",
    "    # loop through the contours to see if we count any more fingers.\n",
    "    for cnt in contours:\n",
    "\n",
    "        # Bounding box of countour\n",
    "        (x, y, w, h) = cv2.boundingRect(cnt)\n",
    "\n",
    "        # Increment count of fingers based on two conditions:\n",
    "        \n",
    "        # 1. Contour region is not the very bottom of hand area (the wrist)\n",
    "        out_of_wrist = ((centerY + (centerY * 0.25)) > (y + h))\n",
    "                \n",
    "        # 2. Number of points along the contour does not exceed 25% of the circumference of the circular ROI (otherwise we're counting points off the hand)\n",
    "        limit_points = ((circumference * 0.25) > cnt.shape[0])\n",
    "\n",
    "        if out_of_wrist and limit_points:\n",
    "            count += 1\n",
    "\n",
    "    return count"
   ]
  },
  {
   "attachments": {},
   "cell_type": "markdown",
   "metadata": {},
   "source": [
    "## <span style=\"color: yellowgreen;\">5. </span>Bringing it all together."
   ]
  },
  {
   "attachments": {},
   "cell_type": "markdown",
   "metadata": {},
   "source": [
    "**Running the program**:"
   ]
  },
  {
   "cell_type": "code",
   "execution_count": 29,
   "metadata": {},
   "outputs": [],
   "source": [
    "cam = cv2.VideoCapture(0)\n",
    "\n",
    "# Calculate the background and intialize a frame count\n",
    "num_frames = 0\n",
    "\n",
    "while True:\n",
    "    # get the current frame\n",
    "    ret, frame = cam.read()\n",
    "    \n",
    "    # flip the frame so that it is not the mirror view\n",
    "    frame = cv2.flip(frame, 1)\n",
    "\n",
    "    # clone the frame\n",
    "    frame_copy = frame.copy()\n",
    "\n",
    "    # Grab the ROI from the frame\n",
    "    roi = frame_copy[roi_top:roi_bottom, roi_right:roi_left]\n",
    "\n",
    "    # Apply grayscale and blur to ROI\n",
    "    gray = cv2.cvtColor(roi, cv2.COLOR_BGR2GRAY)\n",
    "    gray = cv2.GaussianBlur(gray, (7, 7), 0)\n",
    "\n",
    "    # For the first 60 frames we will calculate the average of the background.\n",
    "    # We will tell the user while this is happening\n",
    "    if num_frames < 60:\n",
    "        calculate_accumulated_avg(gray, accumulated_weight)\n",
    "\n",
    "        if num_frames <= 59:\n",
    "            cv2.putText(frame_copy, \"WAIT! GETTING BACKGROUND AVG.\", (200, 400), cv2.FONT_HERSHEY_SIMPLEX, 1, (0, 0, 255), 2)\n",
    "            cv2.imshow(\"Finger Count\",frame_copy)\n",
    "\n",
    "    else:\n",
    "        # now that we have the background, we can segment the hand.\n",
    "        \n",
    "        # segment the hand region\n",
    "        hand = segment(gray)\n",
    "\n",
    "        # First check if we were able to actually detect a hand\n",
    "        if hand is not None:\n",
    "            \n",
    "            # unpack\n",
    "            thresholded, hand_segment = hand\n",
    "\n",
    "            # Draw contours around hand segment in live stream\n",
    "            cv2.drawContours(frame_copy, [hand_segment + (roi_right, roi_top)], -1, (255, 0, 0), 3)\n",
    "\n",
    "            # Count the fingers\n",
    "            fingers = count_fingers(thresholded, hand_segment)\n",
    "\n",
    "            # Display count\n",
    "            cv2.putText(frame_copy, str(fingers), (70, 85), cv2.FONT_HERSHEY_SIMPLEX, 3, (0, 0, 255), 2)\n",
    "\n",
    "            # Also display the thresholded image\n",
    "            cv2.imshow(\"Thesholded\", thresholded)\n",
    "            \n",
    "    # Draw ROI Rectangle on frame copy\n",
    "    cv2.rectangle(frame_copy, (roi_left, roi_top), (roi_right, roi_bottom), (0, 0, 255), 5)\n",
    "\n",
    "    # increment the number of frames for tracking\n",
    "    num_frames += 1\n",
    "\n",
    "    # Display the frame with segmented hand\n",
    "    cv2.imshow(\"Finger Count\", frame_copy)\n",
    "\n",
    "\n",
    "    # Close windows with Esc\n",
    "    k = cv2.waitKey(1) & 0xFF\n",
    "\n",
    "    if k == 27:\n",
    "        break\n",
    "\n",
    "# Release the camera and destroy all the windows\n",
    "cam.release()\n",
    "cv2.destroyAllWindows()"
   ]
  }
 ],
 "metadata": {
  "kernelspec": {
   "display_name": "python-cvcourse",
   "language": "python",
   "name": "python3"
  },
  "language_info": {
   "codemirror_mode": {
    "name": "ipython",
    "version": 3
   },
   "file_extension": ".py",
   "mimetype": "text/x-python",
   "name": "python",
   "nbconvert_exporter": "python",
   "pygments_lexer": "ipython3",
   "version": "3.6.13"
  },
  "orig_nbformat": 4
 },
 "nbformat": 4,
 "nbformat_minor": 2
}
